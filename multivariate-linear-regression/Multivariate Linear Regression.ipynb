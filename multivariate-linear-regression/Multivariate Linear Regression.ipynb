{
 "cells": [
  {
   "cell_type": "markdown",
   "metadata": {},
   "source": [
    "# Multivariate Linear Regression\n",
    "\n",
    "We are using airfoil and yatch hydrodynamics datasets to build a multivariate linear regression model."
   ]
  },
  {
   "cell_type": "code",
   "execution_count": 5,
   "metadata": {},
   "outputs": [],
   "source": [
    "# Import all required packages\n",
    "import pandas as pd\n",
    "import numpy as np\n",
    "import random as random\n",
    "from numpy.linalg import inv\n",
    "import matplotlib.pyplot as py\n",
    "\n",
    "#import air foil data and rename the column headers\n",
    "airFoilData = pd.read_table(\"airfoil_self_noise.dat\", sep=\"\\s+\",header=None)\n",
    "airFoilData.columns = ['Freq','angle','chordLength','velocity','displacementThickness','soundLevel']\n",
    "\n",
    "#import yatch hydrodynamics data and rename the column headers\n",
    "yatchData = pd.read_table(\"yacht_hydrodynamics.data\", sep=\"\\s+\",header=None)\n",
    "yatchData.columns = ['buoy','prismatic','lenDispRatio','beamDraftRatio','lenBeamRatio','froudeNum','residuaryRes']\n",
    "\n",
    "#import concrete slump data and take the first row as column headers, also remove the row number column\n",
    "slumpData = pd.read_table(\"slump_test.data\", sep=\",\",header=0)\n",
    "slumpData = slumpData.drop('No',axis=1)"
   ]
  },
  {
   "cell_type": "code",
   "execution_count": 6,
   "metadata": {},
   "outputs": [
    {
     "name": "stdout",
     "output_type": "stream",
     "text": [
      "Least square error for 'Airfoil Self-Noise' data with 5 fold cross validation using Linear multiple regression\n"
     ]
    },
    {
     "name": "stderr",
     "output_type": "stream",
     "text": [
      "C:\\Users\\sriha\\Anaconda3\\lib\\site-packages\\ipykernel_launcher.py:89: FutureWarning: Method .as_matrix will be removed in a future version. Use .values instead.\n",
      "C:\\Users\\sriha\\Anaconda3\\lib\\site-packages\\ipykernel_launcher.py:90: FutureWarning: Method .as_matrix will be removed in a future version. Use .values instead.\n"
     ]
    },
    {
     "name": "stdout",
     "output_type": "stream",
     "text": [
      "146.75958584021924\n",
      "Least square error for 'Yacht Hydrodynamics' data with 5 fold cross validation using Linear multiple regression\n",
      "21.190315297113585"
     ]
    },
    {
     "name": "stderr",
     "output_type": "stream",
     "text": [
      "C:\\Users\\sriha\\Anaconda3\\lib\\site-packages\\ipykernel_launcher.py:62: RuntimeWarning: overflow encountered in square\n"
     ]
    },
    {
     "name": "stdout",
     "output_type": "stream",
     "text": [
      "\n",
      "Least square error for 'Concrete Slump' data with 5 fold cross validation using Linear multiple regression\n",
      "31.247879614569225\n"
     ]
    }
   ],
   "source": [
    "# Define a function to perform 1) Linear multiple regression and 2) RBF regression\n",
    "def my_regression(train,test,nOutputs,lamda): # takes inputs train, test,num of Outputs, lamda(regression co-efficient)\n",
    "    # model 1  - Regularized Linear multiple regression      \n",
    "    Y=train[:,-nOutputs:] # create a matrix of outputs of train data\n",
    "    X = train[:,:-nOutputs]    # create a matrix of inputs of test data\n",
    "    nFeatures = X.shape[1]  # number of features in dataset\n",
    "    nRows = X.shape[0]    # number of rows in train data\n",
    "    \n",
    "    # calculate the weights or parameters using the training data in matrix notation\n",
    "    beta = np.dot(np.dot(inv(lamda*np.identity(nFeatures)+np.dot(X.transpose(),X)),X.transpose()),Y)    \n",
    "    \n",
    "    Y_test = test[:,-nOutputs:] # create a matrix of outputs of test data \n",
    "    X_test = test[:,:-nOutputs] # create a matrix of inputs of test data\n",
    "    nRows_test = X_test.shape[0]    \n",
    "    \n",
    "    Y_est = np.dot(X_test,beta) # estimate the Y-Hat for test data inputs using the weights we got from train data.\n",
    "    # Calculate least suare error for given test data\n",
    "    LSE = (((np.square(Y_test-Y_est)).sum()))+(lamda/2)*(np.dot(beta.transpose(),beta)) \n",
    "    \n",
    "    \n",
    "    # model 2 - RBF --- this part of the code performs non-linear regression using Radial basis functions\n",
    "    sd = 1 # set standard deviation to 1\n",
    "    phi = np.empty((nRows,10)) \n",
    "    phi_test = np.empty((nRows_test,10))\n",
    "    \n",
    "    # Prep the input train data to calculate PHI or the design matrix\n",
    "    X_RBF = np.delete(X, 0, 1) \n",
    "    X_RBF_test = np.delete(X_test,0,1)\n",
    "    \n",
    "    # choose a random row from input as mean values -- here i am taking 10 so the feature space is expanded to 10 dimensions\n",
    "    mean = X_RBF[np.random.randint(10, size=2),:]    \n",
    "    cind=0\n",
    "    rind = 0\n",
    "    cind_test=0\n",
    "    rind_test = 0\n",
    "    \n",
    "    # the below loops are used to calculate the design matrix using radial basis matrix.\n",
    "    for m in mean:\n",
    "        for row in range(nRows):\n",
    "            dist = np.linalg.norm(X_RBF[row,:]-m)        # calculate euclidean distance between the points\n",
    "            gauss = np.exp((-1*(dist**2))/(2*(sd**2)))  # calculate gaussian value\n",
    "            phi[rind,cind] = gauss\n",
    "            rind = rind + 1\n",
    "        rind = 0 \n",
    "        cind = cind+1\n",
    "        \n",
    "        for row_test in range(nRows_test):        \n",
    "            dist_test = np.linalg.norm(X_RBF_test[row_test,:]-m)   # calculate euclidean distance between the points         \n",
    "            gauss_test = np.exp((-1*(dist_test**2))/(2*(sd**2))) # calculate gaussian value        \n",
    "            phi_test[rind_test,cind_test] = gauss_test\n",
    "            rind_test = rind_test + 1\n",
    "        rind_test = 0 \n",
    "        cind_test = cind_test+1  \n",
    "    np.insert(phi, 0, 1, axis=1)    \n",
    "    np.insert(phi_test, 0, 1, axis=1)    \n",
    "    \n",
    "    # calculate parameters or weights for the given design matrix\n",
    "    beta_RBF = np.dot(np.dot(inv(lamda*np.identity(10)+np.dot(phi.transpose(),phi)),phi.transpose()),Y)\n",
    "    Y_est_RBF = np.dot(phi_test,beta_RBF) # estimate the Y-Hat for test data inputs using the weights we got from train data.\n",
    "    \n",
    "    #calculate least square error for gaussian regression\n",
    "    LSE_RBF = (((np.square(Y_test-Y_est_RBF)).sum()))+(lamda/2)*(np.dot(beta_RBF.transpose(),beta_RBF))\n",
    "    return beta,LSE,beta_RBF,LSE_RBF # return least sqares and weights for both the model\n",
    "\n",
    "def process(df,lamda,outputs):\n",
    "    k = 5 # choose number of folds\n",
    "    padding = len(df) % k\n",
    "    cols = df.columns\n",
    "    LSE = []\n",
    "    LSE_RBF = []\n",
    "    beta = []\n",
    "    beta_RBF = []\n",
    "    train= pd.DataFrame()\n",
    "    test = pd.DataFrame()\n",
    "    \n",
    "    # normalize the entire data using Z-scoring method\n",
    "    for u in range(df.shape[1]):\n",
    "            df[cols] = (df[cols]-df[cols].mean())/(df[cols].std())\n",
    "    #insert a column of '1's for W0 parameter\n",
    "    df.insert(0,'dummy',1)\n",
    "\n",
    "    init_split = np.split(df[:-padding],k)\n",
    "    init_split[len(init_split)-1].append(df.tail(padding))\n",
    "\n",
    "    for h in range(k): # iterate through each fold\n",
    "        for j in range(len(init_split)-1):\n",
    "            train = train.append(init_split[j])\n",
    "    \n",
    "        train = train.as_matrix() #create the train data\n",
    "        test = init_split[len(init_split)-1].as_matrix()    # create the test data \n",
    "        \n",
    "        # call the my_regression function for to model a regression model and obtain weights and least square errors\n",
    "        weight,LSE_mid,weight_RBF,LSE_mid_RBF = my_regression(train,test,outputs,lamda)\n",
    "        \n",
    "        # capture the weights and least squares of each fold\n",
    "        beta.append(weight)\n",
    "        LSE.append(LSE_mid)\n",
    "        beta_RBF.append(weight_RBF)\n",
    "        LSE_RBF.append(LSE_mid_RBF)\n",
    "        \n",
    "        train= pd.DataFrame()\n",
    "        test = pd.DataFrame()\n",
    "        init_split = init_split[(h+1):] + init_split[:(h+1)]\n",
    "    return np.average(LSE) # return the average least square error for the given dataset\n",
    "\n",
    "print(\"Least square error for 'Airfoil Self-Noise' data with 5 fold cross validation using Linear multiple regression\")\n",
    "print(process(airFoilData,65,1))\n",
    "print(\"Least square error for 'Yacht Hydrodynamics' data with 5 fold cross validation using Linear multiple regression\")\n",
    "print(process(yatchData,2,1))\n",
    "print(\"Least square error for 'Concrete Slump' data with 5 fold cross validation using Linear multiple regression\")\n",
    "print(process(slumpData,1,3))"
   ]
  }
 ],
 "metadata": {
  "kernelspec": {
   "display_name": "Python 3",
   "language": "python",
   "name": "python3"
  },
  "language_info": {
   "codemirror_mode": {
    "name": "ipython",
    "version": 3
   },
   "file_extension": ".py",
   "mimetype": "text/x-python",
   "name": "python",
   "nbconvert_exporter": "python",
   "pygments_lexer": "ipython3",
   "version": "3.6.5"
  }
 },
 "nbformat": 4,
 "nbformat_minor": 2
}
